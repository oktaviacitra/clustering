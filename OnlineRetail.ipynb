{
  "nbformat": 4,
  "nbformat_minor": 0,
  "metadata": {
    "colab": {
      "provenance": [],
      "authorship_tag": "ABX9TyNuodQ681bIJjw3E+a7aRoJ",
      "include_colab_link": true
    },
    "kernelspec": {
      "name": "python3",
      "display_name": "Python 3"
    },
    "language_info": {
      "name": "python"
    }
  },
  "cells": [
    {
      "cell_type": "markdown",
      "metadata": {
        "id": "view-in-github",
        "colab_type": "text"
      },
      "source": [
        "<a href=\"https://colab.research.google.com/github/oktaviacitra/clustering/blob/main/OnlineRetail.ipynb\" target=\"_parent\"><img src=\"https://colab.research.google.com/assets/colab-badge.svg\" alt=\"Open In Colab\"/></a>"
      ]
    },
    {
      "cell_type": "code",
      "execution_count": null,
      "metadata": {
        "id": "Sd7D6dM44bC4"
      },
      "outputs": [],
      "source": [
        "from google.colab import drive\n",
        "\n",
        "origin_path = \"/content/drive\"\n",
        "drive.mount(origin_path)"
      ]
    },
    {
      "cell_type": "code",
      "source": [
        "import pandas as pd\n",
        "\n",
        "folder_path = origin_path + \"/MyDrive/Learning Journey/Online Retail\"\n",
        "dataset_path = folder_path + \"/dataset.csv\"\n",
        "dataframe = pd.read_csv(dataset_path)\n",
        "dataframe.head(3)"
      ],
      "metadata": {
        "id": "lKHxzR-54lnT"
      },
      "execution_count": null,
      "outputs": []
    }
  ]
}